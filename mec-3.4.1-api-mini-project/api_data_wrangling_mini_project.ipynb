{
 "cells": [
  {
   "cell_type": "markdown",
   "metadata": {},
   "source": [
    "This exercise will require you to pull some data from https://data.nasdaq.com/ (formerly Quandl API)."
   ]
  },
  {
   "cell_type": "markdown",
   "metadata": {},
   "source": [
    "As a first step, you will need to register a free account on the https://data.nasdaq.com/ website."
   ]
  },
  {
   "cell_type": "markdown",
   "metadata": {},
   "source": [
    "After you register, you will be provided with a unique API key, that you should store:\r\n",
    "\r\n",
    "*Note*: Use a `.env` file and put your key in there and `python-dotenv` to access it in this notebook. \r\n",
    "\r\n",
    "The code below uses a key that was used when generating this project but has since been deleted. Never submit your keys to source control. There is a `.env-example` file in this repository to ilrusrtate what you need. Copy that to a file called `.env` and use your own api key in that `.env` file. Make sure you also have a `.gitignore` file with a line for `.env` added to it. \r\n",
    "\r\n",
    "The standard Python gitignore is [here](https://github.com/github/gitignore/blob/master/Python.gitignore) you can just copy that. "
   ]
  },
  {
   "cell_type": "code",
   "execution_count": 40,
   "metadata": {},
   "outputs": [
    {
     "name": "stdout",
     "output_type": "stream",
     "text": [
      "SRMpR5EwRXUg5ja9uVsV\n"
     ]
    }
   ],
   "source": [
    "# get api key from your .env file\n",
    "import os\n",
    "from dotenv import load_dotenv  # if missing this module, simply run `pip install python-dotenv`\n",
    "\n",
    "load_dotenv()\n",
    "API_KEY = os.getenv('NASDAQ_API_KEY')\n",
    "\n",
    "print(API_KEY)"
   ]
  },
  {
   "cell_type": "markdown",
   "metadata": {},
   "source": [
    "Nasdaq Data has a large number of data sources, but, unfortunately, most of them require a Premium subscription. Still, there are also a good number of free datasets."
   ]
  },
  {
   "cell_type": "markdown",
   "metadata": {},
   "source": [
    "For this mini project, we will focus on equities data from the Frankfurt Stock Exhange (FSE), which is available for free. We'll try and analyze the stock prices of a company called Carl Zeiss Meditec, which manufactures tools for eye examinations, as well as medical lasers for laser eye surgery: https://www.zeiss.com/meditec/int/home.html. The company is listed under the stock ticker AFX_X."
   ]
  },
  {
   "cell_type": "markdown",
   "metadata": {},
   "source": [
    "You can find the detailed Nasdaq Data API instructions here: https://docs.data.nasdaq.com/docs/in-depth-usage"
   ]
  },
  {
   "cell_type": "markdown",
   "metadata": {},
   "source": [
    "While there is a dedicated Python package for connecting to the Nasdaq API, we would prefer that you use the *requests* package, which can be easily downloaded using *pip* or *conda*. You can find the documentation for the package here: http://docs.python-requests.org/en/master/ "
   ]
  },
  {
   "cell_type": "markdown",
   "metadata": {},
   "source": [
    "Finally, apart from the *requests* package, you are encouraged to not use any third party Python packages, such as *pandas*, and instead focus on what's available in the Python Standard Library (the *collections* module might come in handy: https://pymotw.com/3/collections/).\n",
    "Also, since you won't have access to DataFrames, you are encouraged to us Python's native data structures - preferably dictionaries, though some questions can also be answered using lists.\n",
    "You can read more on these data structures here: https://docs.python.org/3/tutorial/datastructures.html"
   ]
  },
  {
   "cell_type": "markdown",
   "metadata": {},
   "source": [
    "Keep in mind that the JSON responses you will be getting from the API map almost one-to-one to Python's dictionaries. Unfortunately, they can be very nested, so make sure you read up on indexing dictionaries in the documentation provided above."
   ]
  },
  {
   "cell_type": "code",
   "execution_count": 41,
   "metadata": {},
   "outputs": [],
   "source": [
    "# First, import the relevant modules\n",
    "import json\n",
    "import urllib.request"
   ]
  },
  {
   "cell_type": "markdown",
   "metadata": {},
   "source": [
    "Note: API's can change a bit with each version, for this exercise it is reccomended to use the nasdaq api at `https://data.nasdaq.com/api/v3/`. This is the same api as what used to be quandl so `https://www.quandl.com/api/v3/` should work too.\r\n",
    "\r\n",
    "Hint: We are looking for the `AFX_X` data on the `datasets/FSE/` dataset."
   ]
  },
  {
   "cell_type": "code",
   "execution_count": 42,
   "metadata": {},
   "outputs": [],
   "source": [
    "# Now, call the Nasdaq API and pull out a small sample of the data (only one day) to get a glimpse\n",
    "# into the JSON structure that will be returned\n",
    "base_url = 'https://data.nasdaq.com/api/v3/'\n",
    "dataset_folder = 'datasets/'\n",
    "database_code = 'FSE/'\n",
    "dataset_code = 'AFX_X/'\n",
    "return_format = '.json'\n",
    "request_api_key = f\"api_key={API_KEY}\"\n",
    "start_date_param = f\"start_date=2017-01-18\"\n",
    "end_date_param = f\"end_date=2017-01-19\"\n",
    "\n",
    "request_url = f\"{base_url}{dataset_folder}{database_code}{dataset_code}data{return_format}?{start_date_param}&{end_date_param}&{request_api_key}\"\n",
    "\n",
    "urllib_data = urllib.request.urlopen(request_url).read()\n",
    "\n",
    "json_data = json.loads(urllib_data)"
   ]
  },
  {
   "cell_type": "code",
   "execution_count": 43,
   "metadata": {},
   "outputs": [
    {
     "name": "stdout",
     "output_type": "stream",
     "text": [
      "<class 'dict'>\n",
      "{'dataset_data': {'limit': None, 'transform': None, 'column_index': None, 'column_names': ['Date', 'Open', 'High', 'Low', 'Close', 'Change', 'Traded Volume', 'Turnover', 'Last Price of the Day', 'Daily Traded Units', 'Daily Turnover'], 'start_date': '2017-01-18', 'end_date': '2017-01-19', 'frequency': 'daily', 'data': [['2017-01-19', 35.04, 35.04, 34.42, 34.5, None, 73105.0, 2526731.0, None, None, None], ['2017-01-18', 35.04, 35.51, 34.8, 34.9, None, 65931.0, 2311608.0, None, None, None]], 'collapse': None, 'order': None}}\n"
     ]
    }
   ],
   "source": [
    "# Inspect the JSON structure of the object you created, and take note of how nested it is,\n",
    "# as well as the overall structure\n",
    "print(type(json_data))\n",
    "print(json_data)"
   ]
  },
  {
   "cell_type": "markdown",
   "metadata": {},
   "source": [
    "These are your tasks for this mini project:\n",
    "\n",
    "1. Collect data from the Franfurt Stock Exchange, for the ticker AFX_X, for the whole year 2017 (keep in mind that the date format is YYYY-MM-DD).\n",
    "2. Convert the returned JSON object into a Python dictionary.\n",
    "3. Calculate what the highest and lowest opening prices were for the stock in this period.\n",
    "4. What was the largest change in any one day (based on High and Low price)?\n",
    "5. What was the largest change between any two days (based on Closing Price)?\n",
    "6. What was the average daily trading volume during this year?\n",
    "7. (Optional) What was the median trading volume during this year. (Note: you may need to implement your own function for calculating the median.)"
   ]
  },
  {
   "cell_type": "code",
   "execution_count": 44,
   "metadata": {},
   "outputs": [],
   "source": [
    "# Task 1\n",
    "base_url = 'https://data.nasdaq.com/api/v3/'\n",
    "dataset_folder = 'datasets/'\n",
    "database_code = 'FSE/'\n",
    "dataset_code = 'AFX_X/'\n",
    "return_format = '.json'\n",
    "request_api_key = f\"api_key={API_KEY}\"\n",
    "start_date_param = f\"start_date=2017-01-01\"\n",
    "end_date_param = f\"end_date=2017-12-31\"\n",
    "\n",
    "\n",
    "request_url = f\"{base_url}{dataset_folder}{database_code}{dataset_code}data{return_format}?{start_date_param}&{end_date_param}&{request_api_key}\"\n",
    "\n",
    "urllib_data = urllib.request.urlopen(request_url).read()\n",
    "\n",
    "json_data = json.loads(urllib_data)"
   ]
  },
  {
   "cell_type": "code",
   "execution_count": 45,
   "metadata": {},
   "outputs": [],
   "source": [
    "# Task 2\n",
    "json_data = json.loads(urllib_data)"
   ]
  },
  {
   "cell_type": "code",
   "execution_count": 46,
   "metadata": {},
   "outputs": [],
   "source": [
    "# Task 3\n",
    "actual_full_data = json_data['dataset_data']\n",
    "full_filtered_data = actual_full_data['data']\n",
    "\n",
    "\n",
    "opening_price_index = actual_full_data['column_names'].index('Open')\n",
    "\n",
    "highest_opening_price = max([x[opening_price_index] for x in full_filtered_data if x[opening_price_index] is not None])\n",
    "\n",
    "lowest_opening_price = min([x[opening_price_index] for x in full_filtered_data if x[opening_price_index] is not None])"
   ]
  },
  {
   "cell_type": "code",
   "execution_count": 47,
   "metadata": {},
   "outputs": [],
   "source": [
    "# Task 4\n",
    "high_price_index = actual_full_data['column_names'].index('High')\n",
    "low_price_index = actual_full_data['column_names'].index('Low')\n",
    "\n",
    "\n",
    "list_change_per_day = [x[high_price_index]-x[low_price_index] for x in full_filtered_data \\\n",
    "                        if x[high_price_index] is not None or x[low_price_index] is not None]\n",
    "largest_change_one_day = max(list_change_per_day)"
   ]
  },
  {
   "cell_type": "code",
   "execution_count": 48,
   "metadata": {},
   "outputs": [],
   "source": [
    "# Task 5\n",
    "close_price_index = actual_full_data['column_names'].index('Close')\n",
    "\n",
    "\n",
    "list_diff_close_price = []\n",
    "for x in range(len(full_filtered_data)):\n",
    "    for y in range(len(full_filtered_data)):\n",
    "        if (y > x):\n",
    "            diff = full_filtered_data[y][close_price_index] - full_filtered_data[x][close_price_index]\n",
    "            list_diff_close_price.append(diff)\n",
    "            \n",
    "largest_diff_close_price = max(list_diff_close_price)"
   ]
  },
  {
   "cell_type": "code",
   "execution_count": 49,
   "metadata": {},
   "outputs": [],
   "source": [
    "# Task 6\n",
    "trading_volume_index = actual_full_data['column_names'].index('Traded Volume')\n",
    "\n",
    "\n",
    "list_trading_volume = [x[trading_volume_index] for x in full_filtered_data if x[trading_volume_index] is not None]\n",
    "avg_daily_trading_volume = sum(list_trading_volume) / len(list_trading_volume)"
   ]
  },
  {
   "cell_type": "code",
   "execution_count": 50,
   "metadata": {},
   "outputs": [],
   "source": [
    "# Task 7\n",
    "def median(sorted_list):\n",
    "    len_of_list = len(sorted_list)\n",
    "    if len_of_list % 2 == 0:\n",
    "        return (sorted_list[len_of_list // 2 - 1] + sorted_list[len_of_list // 2]) / 2\n",
    "    else:\n",
    "        return sorted_list[len_of_list // 2]\n",
    "\n",
    "    \n",
    "list_trading_volume.sort()\n",
    "median_trading_volume = median(list_trading_volume)"
   ]
  }
 ],
 "metadata": {
  "interpreter": {
   "hash": "4885f37acae9217c235118400878352aafa7b76e66df698a1f601374f86939a7"
  },
  "kernelspec": {
   "display_name": "Python 3",
   "language": "python",
   "name": "python3"
  },
  "language_info": {
   "codemirror_mode": {
    "name": "ipython",
    "version": 3
   },
   "file_extension": ".py",
   "mimetype": "text/x-python",
   "name": "python",
   "nbconvert_exporter": "python",
   "pygments_lexer": "ipython3",
   "version": "3.7.11"
  }
 },
 "nbformat": 4,
 "nbformat_minor": 4
}
